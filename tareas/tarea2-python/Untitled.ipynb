{
 "cells": [
  {
   "cell_type": "markdown",
   "metadata": {},
   "source": [
    "## Postgrado en Analisis y Prediccion de Datos"
   ]
  },
  {
   "cell_type": "markdown",
   "metadata": {},
   "source": [
    "_Febrero 2021, Yalmar Cardenas_"
   ]
  },
  {
   "cell_type": "markdown",
   "metadata": {},
   "source": [
    "_Hoja de trabajo #2 Sintaxis , Listas y Tuplas_"
   ]
  },
  {
   "cell_type": "markdown",
   "metadata": {},
   "source": [
    "**Entregable:** Su entregable debera ser un link al repositorio de git que contiene el Jupyter Notebook donde resolvio los ejercicios planteados.\n"
   ]
  },
  {
   "cell_type": "markdown",
   "metadata": {},
   "source": [
    "**Parte #1 - (Programacion y Sintaxis):** A continuacion se le muestran una lista de ejercicios\n",
    "que debera completar utilizando Python, debe usar Markdown para indicar donde inicia cada uno\n",
    "de los ejercicios."
   ]
  },
  {
   "cell_type": "markdown",
   "metadata": {},
   "source": [
    "1. Haga un programa en Python que reciba de parametro un numero de segundos y que despliegue en pantalla, las horas, minutos y segundos que representan. Por ejemplo:"
   ]
  },
  {
   "cell_type": "code",
   "execution_count": null,
   "metadata": {},
   "outputs": [],
   "source": []
  }
 ],
 "metadata": {
  "kernelspec": {
   "display_name": "Python 3",
   "language": "python",
   "name": "python3"
  },
  "language_info": {
   "codemirror_mode": {
    "name": "ipython",
    "version": 3
   },
   "file_extension": ".py",
   "mimetype": "text/x-python",
   "name": "python",
   "nbconvert_exporter": "python",
   "pygments_lexer": "ipython3",
   "version": "3.8.5"
  }
 },
 "nbformat": 4,
 "nbformat_minor": 4
}
