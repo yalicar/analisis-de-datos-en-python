{
 "cells": [
  {
   "cell_type": "markdown",
   "metadata": {},
   "source": [
    "## Postgrado en Analisis y Prediccion de Datos"
   ]
  },
  {
   "cell_type": "markdown",
   "metadata": {},
   "source": [
    "_Febrero 2021, Yalmar Cardenas_"
   ]
  },
  {
   "cell_type": "markdown",
   "metadata": {},
   "source": [
    "_Hoja de trabajo #2 Sintaxis , Listas y Tuplas_"
   ]
  },
  {
   "cell_type": "markdown",
   "metadata": {},
   "source": [
    "**Entregable:** Su entregable debera ser un link al repositorio de git que contiene el Jupyter Notebook donde resolvio los ejercicios planteados.\n"
   ]
  },
  {
   "cell_type": "markdown",
   "metadata": {},
   "source": [
    "**Parte #1 - (Programacion y Sintaxis):** A continuacion se le muestran una lista de ejercicios\n",
    "que debera completar utilizando Python, debe usar Markdown para indicar donde inicia cada uno\n",
    "de los ejercicios."
   ]
  },
  {
   "cell_type": "markdown",
   "metadata": {},
   "source": [
    "1. Haga un programa en Python que reciba de parametro un numero de segundos y que despliegue en pantalla, las horas, minutos y segundos que representan. Por ejemplo:\n",
    "    - Si el numero de segundos recibidos fuera: 2743 entonces su programa deberıa desplegar:Horas: 0, Minutos: 45 , Segundos: 43\n",
    "    - Si el numero de segundos recibidos fuera 5871: Horas: 1, Minutos: 37 , Segundos: 51\n",
    "    \n",
    "    Recuerde manejar excepciones y errores que considere necesarios."
   ]
  },
  {
   "cell_type": "code",
   "execution_count": 4,
   "metadata": {},
   "outputs": [
    {
     "name": "stdin",
     "output_type": "stream",
     "text": [
      "ingrese la cantidad de segundos a convertir, debe ser un numero entero\n",
      " 6982\n"
     ]
    },
    {
     "name": "stdout",
     "output_type": "stream",
     "text": [
      "6982equivalen a 1h 56m 22s\n"
     ]
    }
   ],
   "source": [
    "while True:\n",
    "    try:\n",
    "        numero=int(input(\"ingrese la cantidad de segundos a convertir, debe ser un numero entero\\n\"))\n",
    "    except:\n",
    "        print(\"Por favor ingrese un numero entero\")\n",
    "    else:\n",
    "        break\n",
    "horas=int(numero/3600)\n",
    "minutos=int((numero-(horas*3600))/60)\n",
    "segundos = numero-((horas*3600)+(minutos*60))\n",
    "print(str(numero)+\" Segundos equivalen a \"+str(horas)+\"h \"+str(minutos)+\"m \"+str(segundos)+\"s\")"
   ]
  },
  {
   "cell_type": "code",
   "execution_count": null,
   "metadata": {},
   "outputs": [],
   "source": []
  }
 ],
 "metadata": {
  "kernelspec": {
   "display_name": "Python 3",
   "language": "python",
   "name": "python3"
  },
  "language_info": {
   "codemirror_mode": {
    "name": "ipython",
    "version": 3
   },
   "file_extension": ".py",
   "mimetype": "text/x-python",
   "name": "python",
   "nbconvert_exporter": "python",
   "pygments_lexer": "ipython3",
   "version": "3.8.5"
  }
 },
 "nbformat": 4,
 "nbformat_minor": 4
}
